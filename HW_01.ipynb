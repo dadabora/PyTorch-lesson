{
 "cells": [
  {
   "cell_type": "code",
   "execution_count": 1,
   "metadata": {},
   "outputs": [],
   "source": [
    "import torch\n",
    "import numpy"
   ]
  },
  {
   "cell_type": "code",
   "execution_count": 2,
   "metadata": {},
   "outputs": [],
   "source": [
    "# Создайте случайный FloatTensor размера 3x4x5\n",
    "\n",
    "d= torch.FloatTensor(3, 4, 5)"
   ]
  },
  {
   "cell_type": "code",
   "execution_count": 3,
   "metadata": {},
   "outputs": [
    {
     "name": "stdout",
     "output_type": "stream",
     "text": [
      "shape (d) - torch.Size([3, 4, 5]),\n",
      " tensor([[[3.3448e+00, 4.4982e-43, 3.3448e+00, 4.4982e-43, 2.4670e+01],\n",
      "         [4.4982e-43, 8.2217e+00, 4.4982e-43, 2.4696e+01, 4.4982e-43],\n",
      "         [2.4696e+01, 4.4982e-43, 8.2312e+00, 4.4982e-43, 8.2312e+00],\n",
      "         [4.4982e-43, 3.3448e+00, 4.4982e-43, 3.3448e+00, 4.4982e-43]],\n",
      "\n",
      "        [[3.3448e+00, 4.4982e-43, 3.3448e+00, 4.4982e-43, 8.2317e+00],\n",
      "         [4.4982e-43, 8.2317e+00, 4.4982e-43, 2.4679e+01, 4.4982e-43],\n",
      "         [2.4679e+01, 4.4982e-43, 2.4661e+01, 4.4982e-43, 2.4661e+01],\n",
      "         [4.4982e-43, 2.4671e+01, 4.4982e-43, 8.2656e+00, 4.4982e-43]],\n",
      "\n",
      "        [[8.2414e+00, 4.4982e-43, 8.2414e+00, 4.4982e-43, 3.3448e+00],\n",
      "         [4.4982e-43, 3.3448e+00, 4.4982e-43, 8.2768e+00, 4.4982e-43],\n",
      "         [8.2768e+00, 4.4982e-43, 8.2162e+00, 4.4982e-43, 8.2162e+00],\n",
      "         [4.4982e-43, 8.2276e+00, 4.4982e-43, 8.2276e+00, 4.4982e-43]]])\n"
     ]
    }
   ],
   "source": [
    "# Выведите его форму (shape)\n",
    "\n",
    "print(f\"shape (d) - {d.shape},\\n {d}\")"
   ]
  },
  {
   "cell_type": "code",
   "execution_count": 4,
   "metadata": {},
   "outputs": [
    {
     "name": "stdout",
     "output_type": "stream",
     "text": [
      "torch.Size([6, 10])\n"
     ]
    },
    {
     "data": {
      "text/plain": [
       "tensor([[3.3448e+00, 4.4982e-43, 3.3448e+00, 4.4982e-43, 2.4670e+01, 4.4982e-43,\n",
       "         8.2217e+00, 4.4982e-43, 2.4696e+01, 4.4982e-43],\n",
       "        [2.4696e+01, 4.4982e-43, 8.2312e+00, 4.4982e-43, 8.2312e+00, 4.4982e-43,\n",
       "         3.3448e+00, 4.4982e-43, 3.3448e+00, 4.4982e-43],\n",
       "        [3.3448e+00, 4.4982e-43, 3.3448e+00, 4.4982e-43, 8.2317e+00, 4.4982e-43,\n",
       "         8.2317e+00, 4.4982e-43, 2.4679e+01, 4.4982e-43],\n",
       "        [2.4679e+01, 4.4982e-43, 2.4661e+01, 4.4982e-43, 2.4661e+01, 4.4982e-43,\n",
       "         2.4671e+01, 4.4982e-43, 8.2656e+00, 4.4982e-43],\n",
       "        [8.2414e+00, 4.4982e-43, 8.2414e+00, 4.4982e-43, 3.3448e+00, 4.4982e-43,\n",
       "         3.3448e+00, 4.4982e-43, 8.2768e+00, 4.4982e-43],\n",
       "        [8.2768e+00, 4.4982e-43, 8.2162e+00, 4.4982e-43, 8.2162e+00, 4.4982e-43,\n",
       "         8.2276e+00, 4.4982e-43, 8.2276e+00, 4.4982e-43]])"
      ]
     },
     "execution_count": 4,
     "metadata": {},
     "output_type": "execute_result"
    }
   ],
   "source": [
    "# Приведите его к форме 6 X 10\n",
    "\n",
    "c1 = d.reshape(6,10)\n",
    "print(c1.shape)\n",
    "c1"
   ]
  },
  {
   "cell_type": "code",
   "execution_count": 11,
   "metadata": {},
   "outputs": [
    {
     "name": "stdout",
     "output_type": "stream",
     "text": [
      "tensor([0, 2, 3, 8, 7, 9, 5, 1, 4, 6])\n",
      "torch.Size([10])\n"
     ]
    }
   ],
   "source": [
    "# Создайте случайный IntTensor размера 10\n",
    "\n",
    "c = torch.randperm(10)\n",
    "print(c)\n",
    "print(c.shape)"
   ]
  },
  {
   "cell_type": "code",
   "execution_count": 14,
   "metadata": {},
   "outputs": [
    {
     "name": "stdout",
     "output_type": "stream",
     "text": [
      "tensor([[0.0000e+00, 8.9963e-43, 1.0034e+01, 3.5985e-42, 1.7269e+02, 4.0484e-42,\n",
      "         4.1109e+01, 4.4982e-43, 9.8785e+01, 2.6989e-42],\n",
      "        [0.0000e+00, 8.9963e-43, 2.4694e+01, 3.5985e-42, 5.7619e+01, 4.0484e-42,\n",
      "         1.6724e+01, 4.4982e-43, 1.3379e+01, 2.6989e-42],\n",
      "        [0.0000e+00, 8.9963e-43, 1.0034e+01, 3.5985e-42, 5.7622e+01, 4.0484e-42,\n",
      "         4.1158e+01, 4.4982e-43, 9.8717e+01, 2.6989e-42],\n",
      "        [0.0000e+00, 8.9963e-43, 7.3983e+01, 3.5985e-42, 1.7263e+02, 4.0484e-42,\n",
      "         1.2335e+02, 4.4982e-43, 3.3062e+01, 2.6989e-42],\n",
      "        [0.0000e+00, 8.9963e-43, 2.4724e+01, 3.5985e-42, 2.3414e+01, 4.0484e-42,\n",
      "         1.6724e+01, 4.4982e-43, 3.3107e+01, 2.6989e-42],\n",
      "        [0.0000e+00, 8.9963e-43, 2.4648e+01, 3.5985e-42, 5.7513e+01, 4.0484e-42,\n",
      "         4.1138e+01, 4.4982e-43, 3.2911e+01, 2.6989e-42]])\n"
     ]
    }
   ],
   "source": [
    "# Умножьте созданный FloatTensor на созданный IntTensor поэлементно\n",
    "\n",
    "a = c1*c\n",
    "print(a)"
   ]
  },
  {
   "cell_type": "code",
   "execution_count": 15,
   "metadata": {},
   "outputs": [
    {
     "name": "stdout",
     "output_type": "stream",
     "text": [
      "tensor([[41371.8398, 12207.2705, 21495.2070, 38890.5273,  8249.4707, 15121.6191],\n",
      "        [12207.2705,  4388.3818,  5576.9526, 14278.6797,  2682.2417,  5050.8013],\n",
      "        [21495.2070,  5576.9526, 14859.9268, 19030.1504,  5553.8037,  8503.3242],\n",
      "        [38890.5273, 14278.6797, 19030.1504, 51582.1211,  9028.5342, 17914.4062],\n",
      "        [ 8249.4707,  2682.2417,  5553.8037,  9028.5342,  2535.2769,  3733.5835],\n",
      "        [15121.6191,  5050.8013,  8503.3242, 17914.4062,  3733.5835,  6690.7529]])\n",
      "torch.Size([6, 6])\n"
     ]
    }
   ],
   "source": [
    "# Умножьте тензор матрично на себя, чтобы результат был размерности 6x6\n",
    "\n",
    "d = a.matmul(a.t())\n",
    "\n",
    "print(d)\n",
    "print(d.shape)\n"
   ]
  },
  {
   "cell_type": "code",
   "execution_count": 16,
   "metadata": {},
   "outputs": [
    {
     "name": "stdout",
     "output_type": "stream",
     "text": [
      "tensor(3.) tensor(1.) tensor(75.)\n"
     ]
    }
   ],
   "source": [
    "# Посчитайте производную функции y = x**3 + z - 75t в точке (1, 0.5, 2)\n",
    "import torch \n",
    "x=torch.tensor(1.0, requires_grad=True)\n",
    "z= torch.tensor(0.5, requires_grad=True) \n",
    "t= torch.tensor(2.0, requires_grad=True)\n",
    "y=x**3+z+75*t \n",
    "y.backward() \n",
    "x.grad \n",
    "z.grad\n",
    "t.grad\n",
    "print(x.grad, z.grad, t.grad)"
   ]
  },
  {
   "cell_type": "code",
   "execution_count": 17,
   "metadata": {},
   "outputs": [
    {
     "data": {
      "text/plain": [
       "tensor([[1., 0., 0., 0., 0., 0.],\n",
       "        [0., 1., 0., 0., 0., 0.],\n",
       "        [0., 0., 1., 0., 0., 0.],\n",
       "        [0., 0., 0., 1., 0., 0.],\n",
       "        [0., 0., 0., 0., 1., 0.]])"
      ]
     },
     "execution_count": 17,
     "metadata": {},
     "output_type": "execute_result"
    }
   ],
   "source": [
    "# Создайте единичный тензор размера 5x6\n",
    "\n",
    "o = torch.eye(5, 6)\n",
    "o"
   ]
  },
  {
   "cell_type": "code",
   "execution_count": 18,
   "metadata": {},
   "outputs": [
    {
     "data": {
      "text/plain": [
       "array([[1., 0., 0., 0., 0., 0.],\n",
       "       [0., 1., 0., 0., 0., 0.],\n",
       "       [0., 0., 1., 0., 0., 0.],\n",
       "       [0., 0., 0., 1., 0., 0.],\n",
       "       [0., 0., 0., 0., 1., 0.]], dtype=float32)"
      ]
     },
     "execution_count": 18,
     "metadata": {},
     "output_type": "execute_result"
    }
   ],
   "source": [
    "# Переведите его в формат numpy\n",
    "b = o.numpy()\n",
    "b"
   ]
  },
  {
   "cell_type": "code",
   "execution_count": 19,
   "metadata": {},
   "outputs": [
    {
     "name": "stdout",
     "output_type": "stream",
     "text": [
      "Iteration 1, x = 1.96, y = 4.85\n",
      "Iteration 6, x = 1.80, y = 4.36\n",
      "Iteration 11, x = 1.69, y = 4.12\n",
      "Iteration 16, x = 1.61, y = 3.99\n",
      "Iteration 21, x = 1.55, y = 3.92\n",
      "Iteration 26, x = 1.50, y = 3.88\n",
      "Iteration 31, x = 1.47, y = 3.85\n",
      "Iteration 36, x = 1.44, y = 3.84\n",
      "Iteration 41, x = 1.42, y = 3.83\n",
      "Iteration 46, x = 1.40, y = 3.83\n",
      "Iteration 51, x = 1.39, y = 3.82\n",
      "Iteration 56, x = 1.38, y = 3.82\n",
      "Iteration 61, x = 1.37, y = 3.82\n",
      "Iteration 66, x = 1.36, y = 3.82\n",
      "Iteration 71, x = 1.36, y = 3.82\n",
      "Iteration 76, x = 1.35, y = 3.82\n",
      "Iteration 81, x = 1.35, y = 3.82\n",
      "Iteration 86, x = 1.35, y = 3.82\n",
      "Iteration 91, x = 1.34, y = 3.82\n",
      "Iteration 96, x = 1.34, y = 3.81\n"
     ]
    }
   ],
   "source": [
    "# Давайте теперь пооптимизируем: возьмите функцию y = x**w1 - 2 * x**2 + 5\n",
    "# Посчитайте \n",
    "from torch.autograd import Variable\n",
    "def function(x, w1):\n",
    "    return x**w1 - 2 * x**2 + 5\n",
    "\n",
    "def gradient(x):\n",
    "    return torch.autograd.grad(function(x, w1), x)[0]\n",
    "\n",
    "w1 = 3\n",
    "x = Variable(torch.Tensor([2]), requires_grad=True)\n",
    "learning_rate = 0.01\n",
    "num_iterations = 100\n",
    "for i in range(num_iterations):\n",
    "    x_grad = gradient(x)\n",
    "    x.data -= learning_rate * x_grad\n",
    "    if not i%5:\n",
    "        print(f\"Iteration {i+1}, x = {x.data[0]:.2f}, y = {function(x.data[0], w1):.2f}\")"
   ]
  },
  {
   "cell_type": "code",
   "execution_count": null,
   "metadata": {},
   "outputs": [],
   "source": []
  },
  {
   "cell_type": "code",
   "execution_count": null,
   "metadata": {},
   "outputs": [],
   "source": []
  }
 ],
 "metadata": {
  "kernelspec": {
   "display_name": "Python 3 (ipykernel)",
   "language": "python",
   "name": "python3"
  },
  "language_info": {
   "codemirror_mode": {
    "name": "ipython",
    "version": 3
   },
   "file_extension": ".py",
   "mimetype": "text/x-python",
   "name": "python",
   "nbconvert_exporter": "python",
   "pygments_lexer": "ipython3",
   "version": "3.10.9"
  }
 },
 "nbformat": 4,
 "nbformat_minor": 2
}
