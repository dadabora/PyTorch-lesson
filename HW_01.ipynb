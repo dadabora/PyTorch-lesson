{
 "cells": [
  {
   "cell_type": "code",
   "execution_count": 1,
   "metadata": {},
   "outputs": [],
   "source": [
    "import torch\n",
    "import numpy"
   ]
  },
  {
   "cell_type": "code",
   "execution_count": 2,
   "metadata": {},
   "outputs": [],
   "source": [
    "# Создайте случайный FloatTensor размера 3x4x5\n",
    "\n",
    "d= torch.FloatTensor(3, 4, 5)"
   ]
  },
  {
   "cell_type": "code",
   "execution_count": 4,
   "metadata": {},
   "outputs": [
    {
     "name": "stdout",
     "output_type": "stream",
     "text": [
      "shape (d) - torch.Size([3, 4, 5]),\n",
      " tensor([[[8.8283e-04, 6.5020e-43, 8.8283e-04, 6.5020e-43, 8.5241e-04],\n",
      "         [6.5020e-43, 8.5241e-04, 6.5020e-43, 5.7638e-06, 6.5020e-43],\n",
      "         [5.7638e-06, 6.5020e-43, 5.7638e-06, 6.5020e-43, 5.7638e-06],\n",
      "         [6.5020e-43, 5.7638e-06, 6.5020e-43, 5.7638e-06, 6.5020e-43]],\n",
      "\n",
      "        [[5.7638e-06, 6.5020e-43, 5.7638e-06, 6.5020e-43, 8.6960e-04],\n",
      "         [6.5020e-43, 8.6974e-04, 6.5020e-43, 8.8430e-04, 6.5020e-43],\n",
      "         [8.8430e-04, 6.5020e-43, 5.7638e-06, 6.5020e-43, 5.7638e-06],\n",
      "         [6.5020e-43, 8.8448e-04, 6.5020e-43, 8.8448e-04, 6.5020e-43]],\n",
      "\n",
      "        [[8.5229e-04, 6.5020e-43, 8.5229e-04, 6.5020e-43, 8.6813e-04],\n",
      "         [6.5020e-43, 8.6813e-04, 6.5020e-43, 8.8330e-04, 6.5020e-43],\n",
      "         [8.8215e-04, 6.5020e-43, 5.7638e-06, 6.5020e-43, 5.7638e-06],\n",
      "         [6.5020e-43, 8.6822e-04, 6.5020e-43, 8.6822e-04, 6.5020e-43]]])\n"
     ]
    }
   ],
   "source": [
    "# Выведите его форму (shape)\n",
    "\n",
    "print(f\"shape (d) - {d.shape},\\n {d}\")"
   ]
  },
  {
   "cell_type": "code",
   "execution_count": 17,
   "metadata": {},
   "outputs": [
    {
     "name": "stdout",
     "output_type": "stream",
     "text": [
      "torch.Size([6, 10])\n"
     ]
    },
    {
     "data": {
      "text/plain": [
       "tensor([[8.8283e-04, 6.5020e-43, 8.8283e-04, 6.5020e-43, 8.5241e-04, 6.5020e-43,\n",
       "         8.5241e-04, 6.5020e-43, 5.7638e-06, 6.5020e-43],\n",
       "        [5.7638e-06, 6.5020e-43, 5.7638e-06, 6.5020e-43, 5.7638e-06, 6.5020e-43,\n",
       "         5.7638e-06, 6.5020e-43, 5.7638e-06, 6.5020e-43],\n",
       "        [5.7638e-06, 6.5020e-43, 5.7638e-06, 6.5020e-43, 8.6960e-04, 6.5020e-43,\n",
       "         8.6974e-04, 6.5020e-43, 8.8430e-04, 6.5020e-43],\n",
       "        [8.8430e-04, 6.5020e-43, 5.7638e-06, 6.5020e-43, 5.7638e-06, 6.5020e-43,\n",
       "         8.8448e-04, 6.5020e-43, 8.8448e-04, 6.5020e-43],\n",
       "        [8.5229e-04, 6.5020e-43, 8.5229e-04, 6.5020e-43, 8.6813e-04, 6.5020e-43,\n",
       "         8.6813e-04, 6.5020e-43, 8.8330e-04, 6.5020e-43],\n",
       "        [8.8215e-04, 6.5020e-43, 5.7638e-06, 6.5020e-43, 5.7638e-06, 6.5020e-43,\n",
       "         8.6822e-04, 6.5020e-43, 8.6822e-04, 6.5020e-43]])"
      ]
     },
     "execution_count": 17,
     "metadata": {},
     "output_type": "execute_result"
    }
   ],
   "source": [
    "# Приведите его к форме 6 X 10\n",
    "\n",
    "c1 = d.reshape(6,10)\n",
    "print(c1.shape)\n",
    "c1"
   ]
  },
  {
   "cell_type": "code",
   "execution_count": 26,
   "metadata": {},
   "outputs": [
    {
     "name": "stdout",
     "output_type": "stream",
     "text": [
      "tensor([[8.8283e-04, 2.6008e-42, 1.7657e-03, 1.3004e-42, 8.5241e-04, 6.5020e-43,\n",
      "         3.4097e-03, 1.3004e-42, 1.1528e-05, 6.5020e-43],\n",
      "        [5.7638e-06, 2.6008e-42, 1.1528e-05, 1.3004e-42, 5.7638e-06, 6.5020e-43,\n",
      "         2.3055e-05, 1.3004e-42, 1.1528e-05, 6.5020e-43],\n",
      "        [5.7638e-06, 2.6008e-42, 1.1528e-05, 1.3004e-42, 8.6960e-04, 6.5020e-43,\n",
      "         3.4790e-03, 1.3004e-42, 1.7686e-03, 6.5020e-43],\n",
      "        [8.8430e-04, 2.6008e-42, 1.1528e-05, 1.3004e-42, 5.7638e-06, 6.5020e-43,\n",
      "         3.5379e-03, 1.3004e-42, 1.7690e-03, 6.5020e-43],\n",
      "        [8.5229e-04, 2.6008e-42, 1.7046e-03, 1.3004e-42, 8.6813e-04, 6.5020e-43,\n",
      "         3.4725e-03, 1.3004e-42, 1.7666e-03, 6.5020e-43],\n",
      "        [8.8215e-04, 2.6008e-42, 1.1528e-05, 1.3004e-42, 5.7638e-06, 6.5020e-43,\n",
      "         3.4729e-03, 1.3004e-42, 1.7364e-03, 6.5020e-43]])\n"
     ]
    }
   ],
   "source": [
    "# Умножьте его на вектор [1, 4, 2, 2, 1] поэлементно\n",
    "a1= torch.FloatTensor([1, 4, 2, 2, 1, 1, 4, 2, 2, 1])\n",
    "a = c1*a1\n",
    "print(a)"
   ]
  },
  {
   "cell_type": "code",
   "execution_count": 27,
   "metadata": {},
   "outputs": [
    {
     "name": "stdout",
     "output_type": "stream",
     "text": [
      "tensor([[1.6249e-05, 1.0910e-07, 1.2649e-05, 1.2889e-05, 1.6363e-05, 1.2665e-05],\n",
      "        [1.0910e-07, 8.6376e-10, 1.0577e-07, 1.0722e-07, 1.2999e-07, 1.0534e-07],\n",
      "        [1.2649e-05, 1.0577e-07, 1.5988e-05, 1.5447e-05, 1.5985e-05, 1.5163e-05],\n",
      "        [1.2889e-05, 1.0722e-07, 1.5447e-05, 1.6428e-05, 1.6189e-05, 1.6139e-05],\n",
      "        [1.6363e-05, 1.2999e-07, 1.5985e-05, 1.6189e-05, 1.9565e-05, 1.5904e-05],\n",
      "        [1.2665e-05, 1.0534e-07, 1.5163e-05, 1.6139e-05, 1.5904e-05, 1.5855e-05]])\n",
      "torch.Size([6, 6])\n"
     ]
    }
   ],
   "source": [
    "# Умножьте тензор матрично на себя, чтобы результат был размерности 6x6\n",
    "\n",
    "d = a.matmul(a.t())\n",
    "\n",
    "print(d)\n",
    "print(d.shape)\n"
   ]
  },
  {
   "cell_type": "code",
   "execution_count": 28,
   "metadata": {},
   "outputs": [
    {
     "name": "stdout",
     "output_type": "stream",
     "text": [
      "tensor(3.) tensor(1.) tensor(75.)\n"
     ]
    }
   ],
   "source": [
    "# Посчитайте производную функции y = x**3 + z - 75t в точке (1, 0.5, 2)\n",
    "import torch \n",
    "x=torch.tensor(1.0, requires_grad=True)\n",
    "z= torch.tensor(0.5, requires_grad=True) \n",
    "t= torch.tensor(2.0, requires_grad=True)\n",
    "y=x**3+z+75*t \n",
    "y.backward() \n",
    "x.grad \n",
    "z.grad\n",
    "t.grad\n",
    "print(x.grad, z.grad, t.grad)"
   ]
  },
  {
   "cell_type": "code",
   "execution_count": 30,
   "metadata": {},
   "outputs": [
    {
     "data": {
      "text/plain": [
       "tensor([[1., 0., 0., 0., 0., 0.],\n",
       "        [0., 1., 0., 0., 0., 0.],\n",
       "        [0., 0., 1., 0., 0., 0.],\n",
       "        [0., 0., 0., 1., 0., 0.],\n",
       "        [0., 0., 0., 0., 1., 0.]])"
      ]
     },
     "execution_count": 30,
     "metadata": {},
     "output_type": "execute_result"
    }
   ],
   "source": [
    "# Создайте единичный тензор размера 5x6\n",
    "\n",
    "o = torch.eye(5, 6)\n",
    "o"
   ]
  },
  {
   "cell_type": "code",
   "execution_count": 31,
   "metadata": {},
   "outputs": [
    {
     "data": {
      "text/plain": [
       "array([[1., 0., 0., 0., 0., 0.],\n",
       "       [0., 1., 0., 0., 0., 0.],\n",
       "       [0., 0., 1., 0., 0., 0.],\n",
       "       [0., 0., 0., 1., 0., 0.],\n",
       "       [0., 0., 0., 0., 1., 0.]], dtype=float32)"
      ]
     },
     "execution_count": 31,
     "metadata": {},
     "output_type": "execute_result"
    }
   ],
   "source": [
    "# Переведите его в формат numpy\n",
    "b = o.numpy()\n",
    "b"
   ]
  },
  {
   "cell_type": "code",
   "execution_count": 42,
   "metadata": {},
   "outputs": [
    {
     "name": "stdout",
     "output_type": "stream",
     "text": [
      "Iteration 1, x = 1.96, y = 4.85\n",
      "Iteration 6, x = 1.80, y = 4.36\n",
      "Iteration 11, x = 1.69, y = 4.12\n",
      "Iteration 16, x = 1.61, y = 3.99\n",
      "Iteration 21, x = 1.55, y = 3.92\n",
      "Iteration 26, x = 1.50, y = 3.88\n",
      "Iteration 31, x = 1.47, y = 3.85\n",
      "Iteration 36, x = 1.44, y = 3.84\n",
      "Iteration 41, x = 1.42, y = 3.83\n",
      "Iteration 46, x = 1.40, y = 3.83\n",
      "Iteration 51, x = 1.39, y = 3.82\n",
      "Iteration 56, x = 1.38, y = 3.82\n",
      "Iteration 61, x = 1.37, y = 3.82\n",
      "Iteration 66, x = 1.36, y = 3.82\n",
      "Iteration 71, x = 1.36, y = 3.82\n",
      "Iteration 76, x = 1.35, y = 3.82\n",
      "Iteration 81, x = 1.35, y = 3.82\n",
      "Iteration 86, x = 1.35, y = 3.82\n",
      "Iteration 91, x = 1.34, y = 3.82\n",
      "Iteration 96, x = 1.34, y = 3.81\n"
     ]
    }
   ],
   "source": [
    "# Давайте теперь пооптимизируем: возьмите функцию y = x**w1 - 2 * x**2 + 5\n",
    "# Посчитайте \n",
    "from torch.autograd import Variable\n",
    "def function(x, w1):\n",
    "    return x**w1 - 2 * x**2 + 5\n",
    "\n",
    "def gradient(x):\n",
    "    return torch.autograd.grad(function(x, w1), x)[0]\n",
    "\n",
    "w1 = 3\n",
    "x = Variable(torch.Tensor([2]), requires_grad=True)\n",
    "learning_rate = 0.01\n",
    "num_iterations = 100\n",
    "for i in range(num_iterations):\n",
    "    x_grad = gradient(x)\n",
    "    x.data -= learning_rate * x_grad\n",
    "    if not i%5:\n",
    "        print(f\"Iteration {i+1}, x = {x.data[0]:.2f}, y = {function(x.data[0], w1):.2f}\")"
   ]
  },
  {
   "cell_type": "code",
   "execution_count": null,
   "metadata": {},
   "outputs": [],
   "source": []
  }
 ],
 "metadata": {
  "kernelspec": {
   "display_name": "Python 3 (ipykernel)",
   "language": "python",
   "name": "python3"
  },
  "language_info": {
   "codemirror_mode": {
    "name": "ipython",
    "version": 3
   },
   "file_extension": ".py",
   "mimetype": "text/x-python",
   "name": "python",
   "nbconvert_exporter": "python",
   "pygments_lexer": "ipython3",
   "version": "3.10.9"
  }
 },
 "nbformat": 4,
 "nbformat_minor": 2
}
